{
 "cells": [
  {
   "cell_type": "markdown",
   "metadata": {},
   "source": [
    "# Linear regression"
   ]
  },
  {
   "cell_type": "markdown",
   "metadata": {},
   "source": [
    "Linear regression attempts to model the relationship between one  or more independent variables and predicted value by fitting a linear equation to observed data."
   ]
  },
  {
   "cell_type": "markdown",
   "metadata": {},
   "source": [
    "## Problem Statement"
   ]
  },
  {
   "cell_type": "markdown",
   "metadata": {},
   "source": [
    "Assume you have a dataset of 5 samples describes housing prices like the following\n",
    "\n",
    "| Size (sqft)     | Price ($) |\n",
    "| ----------------| ------------------------ |\n",
    "| 1000               | 300K                      |\n",
    "| 2500               | 550K                      |\n",
    "| 3000               | 700K                      |\n",
    "| 4000               | 800K                      |\n",
    "\n",
    "We want to fit a linear regression model to fit our data so we can use it to predict a price for unsold house by providing it's size as input, say a house with 3500 sqft size."
   ]
  },
  {
   "cell_type": "code",
   "execution_count": 1,
   "metadata": {},
   "outputs": [],
   "source": [
    "# Imports\n",
    "import math, copy\n",
    "import numpy as np\n",
    "import matplotlib.pyplot as plt"
   ]
  },
  {
   "cell_type": "markdown",
   "metadata": {},
   "source": [
    "## Dataset"
   ]
  },
  {
   "cell_type": "code",
   "execution_count": 3,
   "metadata": {},
   "outputs": [
    {
     "data": {
      "image/png": "[encoded data removed]",
      "text/plain": [
       "<Figure size 432x288 with 1 Axes>"
      ]
     },
     "metadata": {
      "needs_background": "light"
     },
     "output_type": "display_data"
    }
   ],
   "source": [
    "# Define dataset\n",
    "x_train = np.array([1,2.5,3,4])   #features\n",
    "y_train = np.array([3, 5.5, 7, 8])   #target value\n",
    "# Plot the data\n",
    "plt.scatter(x_train, y_train, marker='o', c='b')\n",
    "# Set the title\n",
    "plt.title(\"Housing Prices\")\n",
    "# Set the y-axis label\n",
    "plt.ylabel('Price (100K $)')\n",
    "# Set the x-axis label\n",
    "plt.xlabel('Size (1000 sqft)')\n",
    "plt.grid()\n",
    "plt.show()\n"
   ]
  },
  {
   "cell_type": "markdown",
   "metadata": {},
   "source": [
    "## Cost Function\n",
    "The equation for cost with one variable is: $$J(w,b) = \\frac{1}{2m} \\sum\\limits_{i = 0}^{m-1} (f_{w,b}(x^{(i)}) - y^{(i)})^2 \\tag{1}$$ \n"
   ]
  },
  {
   "cell_type": "code",
   "execution_count": 5,
   "metadata": {},
   "outputs": [],
   "source": [
    "def cost_func(x,y,w,b):\n",
    "    \"\"\"\n",
    "    Computes the cost function for linear regression.\n",
    "    \n",
    "    Args:\n",
    "      x (ndarray (m,)): Data, m examples \n",
    "      y (ndarray (m,)): target values\n",
    "      w,b (scalar)    : model parameters  \n",
    "    \"\"\"\n",
    "    # define model function\n",
    "    preds = np.dot(w,x)+b\n",
    "    cost = np.sum((preds-y)**2)\n",
    "    return cost/(2 * x.shape[0])"
   ]
  },
  {
   "cell_type": "markdown",
   "metadata": {},
   "source": [
    "*gradient descent* was described as:\n",
    "\n",
    "$$\\begin{align*} \\text{repeat}&\\text{ until convergence:} \\; \\lbrace \\newline\n",
    "\\;  w &= w -  \\alpha \\frac{\\partial J(w,b)}{\\partial w} \\tag{1}  \\; \\newline \n",
    " b &= b -  \\alpha \\frac{\\partial J(w,b)}{\\partial b}  \\newline \\rbrace\n",
    "\\end{align*}$$\n",
    "\n",
    "\n",
    "The gradient is defined as:\n",
    "$$\\begin{align} \\frac{\\partial J(w,b)}{\\partial w}  &= \\frac{1}{m} \\sum\\limits_{i = 0}^{m-1} (f_{w,b}(x^{(i)}) - y^{(i)})x^{(i)} \\\\\n",
    "  \\frac{\\partial J(w,b)}{\\partial b}  &= \\frac{1}{m} \\sum\\limits_{i = 0}^{m-1} (f_{w,b}(x^{(i)}) - y^{(i)}) \\\\\\end{align}$$"
   ]
  },
  {
   "cell_type": "markdown",
   "metadata": {},
   "source": [
    "## compute_gradient\n",
    "`compute_gradient`  implements above equations and returns $\\frac{\\partial J(w,b)}{\\partial w}$,$\\frac{\\partial J(w,b)}{\\partial b}$"
   ]
  },
  {
   "cell_type": "code",
   "execution_count": 7,
   "metadata": {},
   "outputs": [],
   "source": [
    "def compute_gradient(x, y, w, b): \n",
    "    \"\"\"\n",
    "    Computes the gradient for linear regression \n",
    "    Args:\n",
    "      x (ndarray (m,)): Data, m examples \n",
    "      y (ndarray (m,)): target values\n",
    "      w,b (scalar)    : model parameters  \n",
    "    Returns\n",
    "      dj_dw (scalar): The gradient of the cost of parameters w\n",
    "      dj_db (scalar): The gradient of the cost of parameter b     \n",
    "     \"\"\"\n",
    "    \n",
    "    # Number of training examples\n",
    "    m = x.shape[0]    \n",
    "    # define model function\n",
    "    preds = np.dot(w,x)+b\n",
    "    dj_dw = np.sum((preds-y)*x)/m\n",
    "    dj_db = np.sum(preds-y)/m\n",
    "    return dj_dw, dj_db"
   ]
  },
  {
   "cell_type": "markdown",
   "metadata": {},
   "source": [
    "##  Gradient Descent\n",
    "Now that gradients can be computed,  gradient descent can be implemented below in `gradient_descent`. The details of the implementation are described in the comments. Below, you will utilize this function to find optimal values of $w$ and $b$ on the training data."
   ]
  },
  {
   "cell_type": "code",
   "execution_count": 21,
   "metadata": {},
   "outputs": [],
   "source": [
    "def gradient_descent(x, y, w_in, b_in, alpha, num_iters, cost_function, gradient_function): \n",
    "    \"\"\"\n",
    "    Performs gradient descent to fit w,b. Updates w,b by taking \n",
    "    num_iters gradient steps with learning rate alpha\n",
    "    \n",
    "    Args:\n",
    "      x (ndarray (m,))  : Data, m examples \n",
    "      y (ndarray (m,))  : target values\n",
    "      w_in,b_in (scalar): initial values of model parameters  \n",
    "      alpha (float):     Learning rate\n",
    "      num_iters (int):   number of iterations to run gradient descent\n",
    "      cost_function:     function to call to produce cost\n",
    "      gradient_function: function to call to produce gradient\n",
    "      \n",
    "    Returns:\n",
    "      w (scalar): Updated value of parameter after running gradient descent\n",
    "      b (scalar): Updated value of parameter after running gradient descent\n",
    "      J_history (List): History of cost values\n",
    "      p_history (list): History of parameters [w,b] \n",
    "      \"\"\"\n",
    "    \n",
    "    w = copy.deepcopy(w_in) # avoid modifying global w_in\n",
    "    # An array to store cost J and w's at each iteration primarily for graphing later\n",
    "    J_history = []\n",
    "    p_history = []\n",
    "    b = b_in\n",
    "    w = w_in\n",
    "    \n",
    "    for i in range(num_iters):\n",
    "        # Calculate the gradient and update the parameters using gradient_function\n",
    "        dj_dw, dj_db = gradient_function(x, y, w , b)     \n",
    "\n",
    "        # Update Parameters\n",
    "        b = b - alpha * dj_db                            \n",
    "        w = w - alpha * dj_dw                            \n",
    "\n",
    "        J_history.append( cost_function(x, y, w , b))\n",
    "        p_history.append([w,b])\n",
    "        # Print cost every at intervals 10 times or as many iterations if < 10\n",
    "        if i% math.ceil(num_iters/10) == 0:\n",
    "            print(f\"Iteration {i:4}: Cost {J_history[-1]:0.2e} \",\n",
    "                  f\"dj_dw: {dj_dw: 0.3e}, dj_db: {dj_db: 0.3e}  \",\n",
    "                  f\"w: {w: 0.3e}, b:{b: 0.5e}\")\n",
    " \n",
    "    return w, b, J_history, p_history #  return w and J,w history for graphing"
   ]
  },
  {
   "cell_type": "code",
   "execution_count": 22,
   "metadata": {},
   "outputs": [
    {
     "name": "stdout",
     "output_type": "stream",
     "text": [
      "Iteration    0: Cost 7.40e-01  dj_dw: -3.328e+00, dj_db: -1.281e+00   w:  1.783e+00, b: 1.28125e-02\n",
      "Iteration 1000: Cost 4.80e-02  dj_dw:  1.442e-02, dj_db: -4.358e-02   w:  1.830e+00, b: 1.02828e+00\n",
      "Iteration 2000: Cost 4.06e-02  dj_dw:  3.880e-03, dj_db: -1.172e-02   w:  1.750e+00, b: 1.27076e+00\n",
      "Iteration 3000: Cost 4.00e-02  dj_dw:  1.044e-03, dj_db: -3.154e-03   w:  1.728e+00, b: 1.33599e+00\n",
      "Iteration 4000: Cost 4.00e-02  dj_dw:  2.808e-04, dj_db: -8.485e-04   w:  1.722e+00, b: 1.35354e+00\n",
      "Iteration 5000: Cost 4.00e-02  dj_dw:  7.555e-05, dj_db: -2.283e-04   w:  1.721e+00, b: 1.35826e+00\n",
      "Iteration 6000: Cost 4.00e-02  dj_dw:  2.033e-05, dj_db: -6.141e-05   w:  1.720e+00, b: 1.35953e+00\n",
      "Iteration 7000: Cost 4.00e-02  dj_dw:  5.468e-06, dj_db: -1.652e-05   w:  1.720e+00, b: 1.35987e+00\n",
      "Iteration 8000: Cost 4.00e-02  dj_dw:  1.471e-06, dj_db: -4.445e-06   w:  1.720e+00, b: 1.35997e+00\n",
      "Iteration 9000: Cost 4.00e-02  dj_dw:  3.957e-07, dj_db: -1.196e-06   w:  1.720e+00, b: 1.35999e+00\n",
      "(w,b) found by gradient descent: (  1.7200,  1.3600)\n"
     ]
    }
   ],
   "source": [
    "# initialize parameters\n",
    "w_init = 1.75\n",
    "b_init = 0\n",
    "# some gradient descent settings\n",
    "iterations = 10000\n",
    "tmp_alpha = 1.0e-2\n",
    "# run gradient descent\n",
    "w_final, b_final, J_hist, p_hist = gradient_descent(x_train ,y_train, w_init, b_init, tmp_alpha, \n",
    "                                                    iterations, cost_func, compute_gradient)\n",
    "print(f\"(w,b) found by gradient descent: ({w_final:8.4f},{b_final:8.4f})\")"
   ]
  },
  {
   "cell_type": "markdown",
   "metadata": {},
   "source": [
    "## Plot the model"
   ]
  },
  {
   "cell_type": "code",
   "execution_count": 11,
   "metadata": {},
   "outputs": [
    {
     "data": {
      "image/png": "[encoded data removed]",
      "text/plain": [
       "<Figure size 432x288 with 1 Axes>"
      ]
     },
     "metadata": {
      "needs_background": "light"
     },
     "output_type": "display_data"
    }
   ],
   "source": [
    "# Define dataset\n",
    "x_train = np.array([1,2.5,3,4])   #features\n",
    "y_train = np.array([3, 5.5, 7, 8])   #target value\n",
    "# Plot the data\n",
    "plt.scatter(x_train, y_train, marker='o', c='b')\n",
    "y_pred = 1.72*x_train+1.36\n",
    "plt.plot(x_train, y_pred, '-r')\n",
    "# Set the title\n",
    "plt.title(\"Housing Prices\")\n",
    "# Set the y-axis label\n",
    "plt.ylabel('Price (100K $)')\n",
    "# Set the x-axis label\n",
    "plt.xlabel('Size (1000 sqft)')\n",
    "plt.grid()\n",
    "plt.show()\n"
   ]
  },
  {
   "cell_type": "markdown",
   "metadata": {},
   "source": [
    "## Predictions"
   ]
  },
  {
   "cell_type": "code",
   "execution_count": 14,
   "metadata": {},
   "outputs": [
    {
     "name": "stdout",
     "output_type": "stream",
     "text": [
      "f(3.5) = 7.38\n",
      "f(4.5) = 9.10\n",
      "f(5) = 9.96\n"
     ]
    }
   ],
   "source": [
    "print(\"f(3.5) = %.2f\" % (w_final*3.5+b_final))\n",
    "print(\"f(4.5) = %.2f\" % (w_final*4.5+b_final))\n",
    "print(\"f(5) = %.2f\" % (w_final*5+b_final))"
   ]
  }
 ],
 "metadata": {
  "kernelspec": {
   "display_name": "Python 3.7.11 ('RecommendationSys')",
   "language": "python",
   "name": "python3"
  },
  "language_info": {
   "codemirror_mode": {
    "name": "ipython",
    "version": 3
   },
   "file_extension": ".py",
   "mimetype": "text/x-python",
   "name": "python",
   "nbconvert_exporter": "python",
   "pygments_lexer": "ipython3",
   "version": "3.7.11"
  },
  "orig_nbformat": 4,
  "vscode": {
   "interpreter": {
    "hash": "3733601d2f8939b09220a65c6cb46fdd04540580adea98372b35a1f2cc0ce83f"
   }
  }
 },
 "nbformat": 4,
 "nbformat_minor": 2
}
